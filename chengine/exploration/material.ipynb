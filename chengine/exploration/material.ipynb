{
 "cells": [
  {
   "cell_type": "code",
   "execution_count": 2,
   "metadata": {},
   "outputs": [
    {
     "data": {
      "text/plain": [
       "[(1, 1), (1, 1), (2, 2), (2, 2), (2, 2), (8, 8)]"
      ]
     },
     "execution_count": 2,
     "metadata": {},
     "output_type": "execute_result"
    }
   ],
   "source": [
    "import re\n",
    "\n",
    "test = \"rnbqkbnr/pppppppp/8/8/3P4/8/PPP1PPPP/RNBQKBNR b KQkq d3 0 1\"\n",
    "\n",
    "\n",
    "def material_count(fen) -> tuple((int, int)):\n",
    "    trunc = re.match(\"([\\da-zA-Z]+\\/){7}[\\da-zA-Z]+\", fen).group(0)\n",
    "    codes = [\"k\", \"q\", \"r\", \"n\", \"b\", \"p\"]\n",
    "    \n",
    "    return [(len(re.findall(c.upper(), trunc)), len(re.findall(c, trunc))) for c in codes]\n",
    "\n",
    "material_count(test)"
   ]
  },
  {
   "cell_type": "code",
   "execution_count": 3,
   "metadata": {},
   "outputs": [],
   "source": [
    "test2 = \"8/5N2/4p2p/5p1k/1p4rP/1P2Q1P1/P4P1K/5q2 w - - 15 44\"\n",
    "piece_value = [200, 9, 5, 3, 3, 1]\n",
    "count = material_count(test2)\n",
    "\n",
    "balance = [(v * n[0], v * n[1]) for v, n in zip(piece_value, count)]"
   ]
  },
  {
   "cell_type": "code",
   "execution_count": 6,
   "metadata": {},
   "outputs": [
    {
     "data": {
      "text/plain": [
       "(217, 218)"
      ]
     },
     "execution_count": 6,
     "metadata": {},
     "output_type": "execute_result"
    }
   ],
   "source": [
    "(sum([e[0] for e in balance]), sum([e[1] for e in balance]))"
   ]
  },
  {
   "cell_type": "code",
   "execution_count": 7,
   "metadata": {},
   "outputs": [],
   "source": [
    "def material_count(fen) -> tuple((int, int)):\n",
    "    trunc = re.match(\"([\\da-zA-Z]+\\/){7}[\\da-zA-Z]+\", fen).group(0)\n",
    "    codes = [\"k\", \"q\", \"r\", \"n\", \"b\", \"p\"]\n",
    "    \n",
    "    return [(len(re.findall(c.upper(), trunc)), len(re.findall(c, trunc))) for c in codes]\n",
    "\n",
    "def calc_balance(fen):\n",
    "    piece_value = [200, 9, 5, 3, 3, 1]\n",
    "    count = material_count(fen)\n",
    "    balance = [(v * n[0], v * n[1]) for v, n in zip(piece_value, count)]\n",
    "    return (sum([e[0] for e in balance]), sum([e[1] for e in balance]))"
   ]
  },
  {
   "cell_type": "code",
   "execution_count": null,
   "metadata": {},
   "outputs": [],
   "source": []
  },
  {
   "cell_type": "code",
   "execution_count": null,
   "metadata": {},
   "outputs": [],
   "source": []
  },
  {
   "cell_type": "code",
   "execution_count": null,
   "metadata": {},
   "outputs": [],
   "source": []
  }
 ],
 "metadata": {
  "kernelspec": {
   "display_name": "Python 3.10.2 64-bit",
   "language": "python",
   "name": "python3"
  },
  "language_info": {
   "codemirror_mode": {
    "name": "ipython",
    "version": 3
   },
   "file_extension": ".py",
   "mimetype": "text/x-python",
   "name": "python",
   "nbconvert_exporter": "python",
   "pygments_lexer": "ipython3",
   "version": "3.10.2"
  },
  "orig_nbformat": 4,
  "vscode": {
   "interpreter": {
    "hash": "aee8b7b246df8f9039afb4144a1f6fd8d2ca17a180786b69acc140d282b71a49"
   }
  }
 },
 "nbformat": 4,
 "nbformat_minor": 2
}
